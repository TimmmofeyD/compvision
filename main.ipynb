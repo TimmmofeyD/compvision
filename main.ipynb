{
 "cells": [
  {
   "cell_type": "code",
   "execution_count": 1,
   "id": "d0f4ef54",
   "metadata": {},
   "outputs": [],
   "source": [
    "import cv2 as cv\n",
    "import numpy as np\n",
    "import pyautogui"
   ]
  },
  {
   "cell_type": "code",
   "execution_count": null,
   "id": "49d93a7d",
   "metadata": {},
   "outputs": [],
   "source": []
  },
  {
   "cell_type": "code",
   "execution_count": 2,
   "id": "8a71687c",
   "metadata": {},
   "outputs": [],
   "source": [
    "osu_map = \"osu_1.mp4\""
   ]
  },
  {
   "cell_type": "code",
   "execution_count": 3,
   "id": "ed888ece",
   "metadata": {},
   "outputs": [],
   "source": [
    "def mask(img):\n",
    "    polygons = np.array([(300, 1195), (1700, 1195), (1700, 50), (300, 50)])\n",
    "    mask = np.zeros_like(img)\n",
    "    cv.fillPoly(mask, np.array([polygons], dtype=np.int64), 1024)\n",
    "    masked_img = cv.bitwise_and(img, mask)\n",
    "    return masked_img"
   ]
  },
  {
   "cell_type": "code",
   "execution_count": 4,
   "id": "506aff79",
   "metadata": {},
   "outputs": [],
   "source": [
    "def canny(img):\n",
    "    img = cv.cvtColor(img, cv.COLOR_BGR2BGRA)\n",
    "    blur = cv.GaussianBlur(img, (5, 5), 0)\n",
    "    return cv.Canny(blur, 50, 150)"
   ]
  },
  {
   "cell_type": "code",
   "execution_count": 5,
   "id": "1ca61c7e",
   "metadata": {},
   "outputs": [],
   "source": [
    "video = cv.VideoCapture(osu_map)"
   ]
  },
  {
   "cell_type": "code",
   "execution_count": 6,
   "id": "2c6dbeef",
   "metadata": {},
   "outputs": [
    {
     "data": {
      "text/plain": [
       "-1"
      ]
     },
     "execution_count": 6,
     "metadata": {},
     "output_type": "execute_result"
    }
   ],
   "source": [
    "cv.waitKey(1)"
   ]
  },
  {
   "cell_type": "code",
   "execution_count": 7,
   "id": "545f15d9",
   "metadata": {},
   "outputs": [],
   "source": [
    "resolution = (1920, 1080)\n",
    "codec = cv.VideoWriter_fourcc(*\"XVID\")\n",
    "filename = \"Recording.avi\"    \n",
    "fps = 60.0\n",
    "out = cv.VideoWriter(filename, codec, fps, resolution)\n",
    "cv.namedWindow(\"Live\", cv.WINDOW_NORMAL)    \n",
    "cv.resizeWindow(\"Live\", 1000, 720)"
   ]
  },
  {
   "cell_type": "code",
   "execution_count": 8,
   "id": "827b121c",
   "metadata": {},
   "outputs": [],
   "source": [
    "while video.isOpened():\n",
    "    _, frame = video.read()\n",
    "    \n",
    "    img = pyautogui.screenshot()\n",
    "    frame = np.array(img)\n",
    "    frame = cv.cvtColor(frame, cv.COLOR_BGR2RGB)\n",
    "    out.write(frame)\n",
    "    \n",
    "#     cv.namedWindow(\"Video\", cv.WINDOW_NORMAL)\n",
    "#     cv.resizeWindow(\"Video\", 1240, 680)\n",
    "\n",
    "#     frame = mask(out)\n",
    "    gray = cv.cvtColor(frame, cv.COLOR_BGR2GRAY)\n",
    "    gray_blurred = cv.GaussianBlur(gray, (7, 7), 0)\n",
    "    \n",
    "    detected_circles = cv.HoughCircles(gray_blurred, \n",
    "                   cv.HOUGH_GRADIENT, 1, 20, param1 = 50,\n",
    "               param2 = 50, minRadius = 10, maxRadius = 100)\n",
    "    \n",
    "    if detected_circles is not None:\n",
    "        detected_circles = np.uint16(np.around(detected_circles))\n",
    "        for pt in detected_circles[0, :]:\n",
    "            a, b, r = pt[0], pt[1], pt[2]\n",
    "            cv.circle(frame, (a, b), r, (0, 255, 0), 10)\n",
    "            cv.circle(frame, (a, b), 1, (0, 0, 255), 20)\n",
    "            cv.imshow(\"Live\", frame)\n",
    "            \n",
    "    if cv.waitKey(1) & 0xFF == ord('q'):\n",
    "        video.release()\n",
    "        cv.destroyAllWindows()\n",
    "        "
   ]
  },
  {
   "cell_type": "code",
   "execution_count": null,
   "id": "8b29401d",
   "metadata": {},
   "outputs": [],
   "source": []
  }
 ],
 "metadata": {
  "kernelspec": {
   "display_name": "Python 3 (ipykernel)",
   "language": "python",
   "name": "python3"
  },
  "language_info": {
   "codemirror_mode": {
    "name": "ipython",
    "version": 3
   },
   "file_extension": ".py",
   "mimetype": "text/x-python",
   "name": "python",
   "nbconvert_exporter": "python",
   "pygments_lexer": "ipython3",
   "version": "3.9.12"
  }
 },
 "nbformat": 4,
 "nbformat_minor": 5
}
